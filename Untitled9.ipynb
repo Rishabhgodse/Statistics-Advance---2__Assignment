{
  "nbformat": 4,
  "nbformat_minor": 0,
  "metadata": {
    "colab": {
      "provenance": []
    },
    "kernelspec": {
      "name": "python3",
      "display_name": "Python 3"
    },
    "language_info": {
      "name": "python"
    }
  },
  "cells": [
    {
      "cell_type": "code",
      "execution_count": null,
      "metadata": {
        "id": "SxHhcQck3GeC"
      },
      "outputs": [],
      "source": [
        "# Define the z-statistic and explain its relationship to the standard normal distribution. How is the z-statistic used in hypothesis testing?"
      ]
    },
    {
      "cell_type": "markdown",
      "source": [
        "The z-statistic measures how many standard deviations a data point (or sample mean) is from the population mean.\n",
        "\n",
        "It is part of the standard normal distribution, which has a mean of 0 and a standard deviation of 1.\n",
        "\n",
        "Formula:\n",
        "\n",
        "𝑧\n",
        "=\n",
        "𝑥\n",
        "−\n",
        "𝜇\n",
        "𝜎\n",
        "/\n",
        "𝑛\n",
        "z=\n",
        "σ/\n",
        "n\n",
        "​\n",
        "\n",
        "x−μ\n",
        "​\n",
        "\n",
        "where:\n",
        "\n",
        "𝑥\n",
        "x = sample mean\n",
        "𝜇\n",
        "μ = population mean\n",
        "𝜎\n",
        "σ = population standard deviation\n",
        "𝑛\n",
        "n = sample size\n",
        "In hypothesis testing, the z-statistic helps determine if a sample mean differs significantly from the population mean. This is used in z-tests when the population standard deviation is known.\n",
        "\n",
        "\n",
        "Suppose we want to calculate the z-statistic for a sample mean of 105, a population mean of 100, a population standard deviation of 15, and a sample size of 25.\n",
        "\n",
        "\n",
        "from math import sqrt\n",
        "\n",
        "# Given values\n",
        "sample_mean = 105\n",
        "population_mean = 100\n",
        "population_std_dev = 15\n",
        "sample_size = 25\n",
        "\n",
        "# Calculate z-score\n",
        "z_statistic = (sample_mean - population_mean) / (population_std_dev / sqrt(sample_size))\n",
        "\n",
        "print(f\"Z-statistic: {z_statistic}\")"
      ],
      "metadata": {
        "id": "zii1ompW4lc6"
      }
    },
    {
      "cell_type": "code",
      "source": [
        "# What is a p-value, and how is it used in hypothesis testing? What does it mean if the p-value is very small (e.g., 0.01)?"
      ],
      "metadata": {
        "id": "7Pjv7NVL4sLp"
      },
      "execution_count": null,
      "outputs": []
    },
    {
      "cell_type": "markdown",
      "source": [
        "The p-value represents the probability of observing the given result, or something more extreme, if the null hypothesis is true.\n",
        "A small p-value (e.g., 0.01) indicates strong evidence against the null hypothesis. Typically, if the p-value is smaller than a predefined significance level (\n",
        "𝛼\n",
        "α), like 0.05, we reject the null hypothesis.\n",
        "\n",
        "Let’s calculate the p-value from a z-statistic using scipy.\n",
        "\n",
        "\n",
        "from scipy import stats\n",
        "\n",
        "# Calculate the p-value for the z-statistic from Question 1\n",
        "p_value = 2 * (1 - stats.norm.cdf(abs(z_statistic)))  # Two-tailed test\n",
        "\n",
        "print(f\"P-value: {p_value}\")\n",
        "If the p-value is less than 0.05, we reject the null hypothesis"
      ],
      "metadata": {
        "id": "D-JD5o0f4zeX"
      }
    },
    {
      "cell_type": "code",
      "source": [
        "# Compare and contrast the binomial and Bernoulli distributions."
      ],
      "metadata": {
        "id": "GoqYiqtw475a"
      },
      "execution_count": null,
      "outputs": []
    },
    {
      "cell_type": "markdown",
      "source": [
        "Bernoulli Distribution: A special case of the binomial distribution with only one trial (\n",
        "𝑛\n",
        "=\n",
        "1\n",
        "n=1). The outcome is either success (1) or failure (0).\n",
        "Binomial Distribution: Models the number of successes in\n",
        "𝑛\n",
        "n independent trials, with the probability of success\n",
        "𝑝\n",
        "p in each trial.\n",
        "For\n",
        "𝑛\n",
        "=\n",
        "1\n",
        "n=1, the binomial distribution is equivalent to the Bernoulli distribution."
      ],
      "metadata": {
        "id": "2R6MNhc85BWO"
      }
    },
    {
      "cell_type": "code",
      "source": [
        "# Under what conditions is the binomial distribution used, and how does it relate to the Bernoulli distribution?"
      ],
      "metadata": {
        "id": "OA2wrz3x5GXB"
      },
      "execution_count": null,
      "outputs": []
    },
    {
      "cell_type": "markdown",
      "source": [
        "Binomial Distribution is used when:\n",
        "There are\n",
        "𝑛\n",
        "n independent trials.\n",
        "Each trial has only two possible outcomes (success or failure).\n",
        "The probability of success\n",
        "𝑝\n",
        "p remains constant across trials.\n",
        "Relationship to Bernoulli: The Bernoulli distribution is a binomial distribution with only one trial.\n",
        "\n",
        "# Simulate a Bernoulli distribution using numpy\n",
        "import numpy as np\n",
        "\n",
        "# Bernoulli trial (n=1)\n",
        "p = 0.6  # Probability of success\n",
        "bernoulli_trial = np.random.binomial(1, p, 10)\n",
        "print(f\"Bernoulli Trials: {bernoulli_trial}\")\n",
        "\n",
        "# Binomial distribution for n=10 trials\n",
        "n_trials = 10\n",
        "binomial_trials = np.random.binomial(n_trials, p, 1000)\n",
        "print(f\"Binomial Trials (1000 samples): {binomial_trials[:10]}\")  # Show first 10"
      ],
      "metadata": {
        "id": "ZUW6KG2k5Kj4"
      }
    },
    {
      "cell_type": "code",
      "source": [
        "# What are the key properties of the Poisson distribution, and when is it appropriate to use this distribution?"
      ],
      "metadata": {
        "id": "_TQu1_mJ5SQ6"
      },
      "execution_count": null,
      "outputs": []
    },
    {
      "cell_type": "markdown",
      "source": [
        "Poisson Distribution models the number of events occurring in a fixed interval of time or space, given that the events happen independently and at a constant rate.\n",
        "Properties:\n",
        "Discrete distribution.\n",
        "Mean and variance are both equal to\n",
        "𝜆\n",
        "λ (average rate of occurrence).\n",
        "It is used when modeling the number of rare events (e.g., number of accidents per hour).\n",
        "\n",
        "# Simulating Poisson distribution\n",
        "lambda_value = 3  # Average number of events\n",
        "poisson_data = np.random.poisson(lambda_value, 1000)\n",
        "\n",
        "# Plotting the distribution\n",
        "import matplotlib.pyplot as plt\n",
        "plt.hist(poisson_data, bins=30, density=True)\n",
        "plt.title(\"Poisson Distribution\")\n",
        "plt.show()"
      ],
      "metadata": {
        "id": "Y1jPBiPO5Yj_"
      }
    },
    {
      "cell_type": "code",
      "source": [
        "#  Define \"probability distribution\" and \"probability density function\" (PDF). How does a PDF differ from a probability mass function (PMF)?"
      ],
      "metadata": {
        "id": "5hf1h7im5fEW"
      },
      "execution_count": null,
      "outputs": []
    },
    {
      "cell_type": "markdown",
      "source": [
        "A probability distribution shows how probabilities are distributed over the possible values of a random variable.\n",
        "Probability Density Function (PDF): Applies to continuous random variables and describes the likelihood of a variable taking a specific value. The area under the curve equals 1.\n",
        "Probability Mass Function (PMF): Applies to discrete random variables and gives the probability that a discrete variable is exactly equal to some value."
      ],
      "metadata": {
        "id": "z7Q1DKZU5lhk"
      }
    },
    {
      "cell_type": "code",
      "source": [
        "# Explain the Central Limit Theorem (CLT) with an example."
      ],
      "metadata": {
        "id": "_QYmZzgo5pEi"
      },
      "execution_count": null,
      "outputs": []
    },
    {
      "cell_type": "markdown",
      "source": [
        "The Central Limit Theorem (CLT) states that the sampling distribution of the sample mean will be approximately normally distributed if the sample size is large enough, regardless of the population's distribution.\n",
        "This theorem allows us to make inferences about population means even if the population distribution is not normal.\n",
        "\n",
        "# Central Limit Theorem Example\n",
        "population_data = np.random.exponential(scale=2, size=10000)  # Non-normal population\n",
        "\n",
        "sample_means = [np.mean(np.random.choice(population_data, size=30)) for _ in range(1000)]\n",
        "\n",
        "# Plotting the sampling distribution of the sample mean\n",
        "plt.hist(sample_means, bins=30, density=True)\n",
        "plt.title(\"Sampling Distribution of Sample Means (CLT)\")\n",
        "plt.show()"
      ],
      "metadata": {
        "id": "CabpU7pY5s2P"
      }
    },
    {
      "cell_type": "code",
      "source": [
        "# Compare z-scores and t-scores. When should you use a z-score, and when should a t-score be applied instead?"
      ],
      "metadata": {
        "id": "SbLmZTWJ5xxC"
      },
      "execution_count": null,
      "outputs": []
    },
    {
      "cell_type": "markdown",
      "source": [
        "Z-score is used when the population standard deviation is known, and the sample size is large (\n",
        "𝑛\n",
        ">\n",
        "30\n",
        "n>30).\n",
        "T-score is used when the population standard deviation is unknown, and the sample size is small (\n",
        "𝑛\n",
        "<\n",
        "30\n",
        "n<30).\n",
        "The t-distribution is wider than the z-distribution due to additional uncertainty in estimating the population standard deviation.\n",
        "\n"
      ],
      "metadata": {
        "id": "dMytyBuM51uB"
      }
    },
    {
      "cell_type": "code",
      "source": [
        "#  Given a sample mean of 105, a population mean of 100, a standard deviation of 15, and a sample size of 25, calculate the z-score and p-value. Based on a significance level of 0.05, do you reject or fail to reject the null hypothesis?"
      ],
      "metadata": {
        "id": "BR_g4SKh59U-"
      },
      "execution_count": null,
      "outputs": []
    },
    {
      "cell_type": "markdown",
      "source": [
        "Z-score measures how far the sample mean is from the population mean in terms of standard deviations.\n",
        "P-value tells us the probability of getting a result as extreme as the observed one if the null hypothesis is true.\n",
        "If the p-value is less than the significance level (\n",
        "𝛼\n",
        "=\n",
        "0.05\n",
        "α=0.05), we reject the null hypothesis.\n",
        "\n",
        "from math import sqrt\n",
        "from scipy import stats\n",
        "\n",
        "# Given data\n",
        "sample_mean = 105\n",
        "population_mean = 100\n",
        "std_dev = 15\n",
        "sample_size = 25\n",
        "alpha = 0.05\n",
        "\n",
        "# Calculate z-score\n",
        "z_score = (sample_mean - population_mean) / (std_dev / sqrt(sample_size))\n",
        "\n",
        "# Calculate p-value for two-tailed test\n",
        "p_value = 2 * (1 - stats.norm.cdf(abs(z_score)))\n",
        "\n",
        "# Hypothesis decision\n",
        "result = \"Reject the null hypothesis\" if p_value < alpha else \"Fail to reject the null hypothesis\"\n",
        "print(f\"Z-score: {z_score}, P-value: {p_value}, Decision: {result}\")\n",
        "\n",
        "Z-Score: 1.67\n",
        "P-Value: 0.095\n",
        "Decision: Fail to reject the null hypothesis (no significant difference)."
      ],
      "metadata": {
        "id": "dB-W_PWB6upA"
      }
    },
    {
      "cell_type": "code",
      "source": [
        "# Simulate a binomial distribution with 10 trials and a probability of success of 0.6 using Python. Generate 1,000 samples and plot the distribution. What is the expected mean and variance?"
      ],
      "metadata": {
        "id": "D3Fd_ESG68ae"
      },
      "execution_count": null,
      "outputs": []
    },
    {
      "cell_type": "markdown",
      "source": [
        "Binomial Distribution: It models the number of successes in a fixed number of independent trials, where each trial has two possible outcomes (success/failure).\n",
        "\n",
        "Mean (Expected Value):\n",
        "𝜇\n",
        "=\n",
        "𝑛\n",
        "⋅\n",
        "𝑝\n",
        "μ=n⋅p\n",
        "Variance:\n",
        "𝜎\n",
        "2\n",
        "=\n",
        "𝑛\n",
        "⋅\n",
        "𝑝\n",
        "⋅\n",
        "(\n",
        "1\n",
        "−\n",
        "𝑝\n",
        ")\n",
        "σ\n",
        "2\n",
        " =n⋅p⋅(1−p)\n",
        "Where:\n",
        "\n",
        "𝑛\n",
        "n is the number of trials (10),\n",
        "𝑝\n",
        "p is the probability of success (0.6).\n",
        "Expected Mean and Variance:\n",
        "Mean:\n",
        "𝜇\n",
        "=\n",
        "10\n",
        "×\n",
        "0.6\n",
        "=\n",
        "6\n",
        "μ=10×0.6=6\n",
        "Variance:\n",
        "𝜎\n",
        "2\n",
        "=\n",
        "10\n",
        "×\n",
        "0.6\n",
        "×\n",
        "0.4\n",
        "=\n",
        "2.4\n",
        "σ\n",
        "2\n",
        " =10×0.6×0.4=2.4\n",
        "\n",
        "import numpy as np\n",
        "import matplotlib.pyplot as plt\n",
        "\n",
        "# Parameters\n",
        "n = 10  # Number of trials\n",
        "p = 0.6  # Probability of success\n",
        "samples = 1000  # Number of samples\n",
        "\n",
        "# Generate binomial distribution samples\n",
        "binom_samples = np.random.binomial(n, p, samples)\n",
        "\n",
        "# Plot the distribution\n",
        "plt.hist(binom_samples, bins=range(n+2), density=True, edgecolor='black', alpha=0.7)\n",
        "plt.title(\"Binomial Distribution (n=10, p=0.6)\")\n",
        "plt.xlabel(\"Number of successes\")\n",
        "plt.ylabel(\"Probability\")\n",
        "plt.show()\n",
        "\n",
        "# Calculate mean and variance of the distribution\n",
        "mean = np.mean(binom_samples)\n",
        "variance = np.var(binom_samples)\n",
        "print(f\"Simulated Mean: {mean}, Simulated Variance: {variance}\")\n",
        "\n",
        "Expected Mean: 6\n",
        "Expected Variance: 2.4\n",
        "The code generates 1,000 samples from the binomial distribution and plots the histogram. The calculated mean and variance from the simulation should closely match the expected values.\n",
        "\n",
        "\n",
        "\n",
        "\n",
        "\n",
        "\n"
      ],
      "metadata": {
        "id": "nAW_SHSw7HCt"
      }
    }
  ]
}